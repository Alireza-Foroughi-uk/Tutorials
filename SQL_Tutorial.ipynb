{
  "nbformat": 4,
  "nbformat_minor": 0,
  "metadata": {
    "colab": {
      "provenance": [],
      "authorship_tag": "ABX9TyML3cf2ElFn8jM7u0yvlNoY",
      "include_colab_link": true
    },
    "kernelspec": {
      "name": "python3",
      "display_name": "Python 3"
    },
    "language_info": {
      "name": "python"
    }
  },
  "cells": [
    {
      "cell_type": "markdown",
      "metadata": {
        "id": "view-in-github",
        "colab_type": "text"
      },
      "source": [
        "<a href=\"https://colab.research.google.com/github/Alireza-Foroughi-uk/Tutorials/blob/main/SQL_Tutorial.ipynb\" target=\"_parent\"><img src=\"https://colab.research.google.com/assets/colab-badge.svg\" alt=\"Open In Colab\"/></a>"
      ]
    },
    {
      "cell_type": "markdown",
      "source": [],
      "metadata": {
        "id": "vyV7V8bL_odp"
      }
    },
    {
      "cell_type": "markdown",
      "source": [
        "**Step 1: SQL Syntax**"
      ],
      "metadata": {
        "id": "pfe90KUXC7vC"
      }
    },
    {
      "cell_type": "code",
      "execution_count": 2,
      "metadata": {
        "id": "owt3ciUo_GoP"
      },
      "outputs": [],
      "source": [
        "# SELECT Name , Phonenumber\n",
        "# FROM Customers ;\n",
        "\n",
        "# DISTINCT: SELECT DISTINCT statement is used to return only different values\n",
        "\n",
        "# SELECT DISTINCT Country From Table;"
      ]
    },
    {
      "cell_type": "markdown",
      "source": [
        "**Step 2: SQL WHERE Clause**"
      ],
      "metadata": {
        "id": "_Z60AAqwFOz0"
      }
    },
    {
      "cell_type": "code",
      "source": [
        "# used to extract only those records that fulfill a specified condition:\n",
        "\n",
        "# SELECT *\n",
        "# FROM Table\n",
        "# WHERE Country = 'iran';\n",
        "\n",
        "# Operators in The WHERE Clause:\n",
        "\n",
        "# SELECT * FROM Table\n",
        "# WHERE age > 18;"
      ],
      "metadata": {
        "id": "ULt-Vu6iH43I"
      },
      "execution_count": 1,
      "outputs": []
    },
    {
      "cell_type": "markdown",
      "source": [
        "**Step 3: SQL ORDER BY**"
      ],
      "metadata": {
        "id": "Qw4dH2fAfZbz"
      }
    },
    {
      "cell_type": "code",
      "source": [
        "# Used to sort the result-set in ascending or descending order:\n",
        "\n",
        "# SELECT * FROM Table\n",
        "# ORDER BY Price;\n",
        "\n",
        "# ASC and DESC : The ORDER BY keyword sorts the records in ascending order by default. To sort the records in descending order, use the DESC keyword\n",
        "# DESC : Highest to Lowest\n",
        "\n",
        "# SELECT * FROM TABLE\n",
        "# ORDER BY Names ASC, Price DESC;"
      ],
      "metadata": {
        "id": "rVcFri5cgNv-"
      },
      "execution_count": null,
      "outputs": []
    },
    {
      "cell_type": "markdown",
      "source": [
        "**Step 4: SQL AND - OR - NOT Operator**"
      ],
      "metadata": {
        "id": "M0hs0W54jrTE"
      }
    },
    {
      "cell_type": "code",
      "source": [
        "# AND operator: displays a record if all the conditions are TRUE\n",
        "\n",
        "# SELECT * FROM Customers\n",
        "# WHERE Country = 'iran' AND CustomerName LIKE 'A%';\n",
        "\n",
        "# OR operator: displays a record if any of the conditions are TRUE\n",
        "# At Least One Condition Must Be True\n",
        "\n",
        "# SELECT *\n",
        "# FROM Table\n",
        "# WHERE Country = 'iran' OR Country = 'UK';\n",
        "\n",
        "\n",
        "# NOT Operator: negative result\n",
        "\n",
        "# SELECT * FROM Table\n",
        "# WHERE NOT Country = 'United Kingdom';"
      ],
      "metadata": {
        "id": "CSQmYgOyj0-X"
      },
      "execution_count": null,
      "outputs": []
    }
  ]
}