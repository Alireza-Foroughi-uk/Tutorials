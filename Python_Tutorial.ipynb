{
  "nbformat": 4,
  "nbformat_minor": 0,
  "metadata": {
    "colab": {
      "provenance": [],
      "authorship_tag": "ABX9TyN3KI6a7V6OIHrU17kXlMQy",
      "include_colab_link": true
    },
    "kernelspec": {
      "name": "python3",
      "display_name": "Python 3"
    },
    "language_info": {
      "name": "python"
    }
  },
  "cells": [
    {
      "cell_type": "markdown",
      "metadata": {
        "id": "view-in-github",
        "colab_type": "text"
      },
      "source": [
        "<a href=\"https://colab.research.google.com/github/Alireza-Foroughi-uk/Tutorials/blob/main/Python_Tutorial.ipynb\" target=\"_parent\"><img src=\"https://colab.research.google.com/assets/colab-badge.svg\" alt=\"Open In Colab\"/></a>"
      ]
    },
    {
      "cell_type": "markdown",
      "source": [
        "Welcome to the Beginner Python Tutorial!\n",
        "\n",
        "Step 1: Print + Comment - Learn how to display text and add comments in your code.  \n",
        "\n",
        "Step 2: Variables - Understand how to store and use data with variables.  \n",
        "\n",
        "Step 3: if - elif - else - Explore conditional statements to make decisions in your code.  \n",
        "\n",
        "Step 4: Receiving Values - Learn how to get input from users.  \n",
        "\n",
        "Step 5: Python Data Types - Discover the different types of data Python can handle.  \n",
        "\n",
        "Step 6: Strings - Dive into working with text in Python.  \n",
        "\n",
        "Step 7: List, Tuple, Set, Dictionary - Understand Python’s core data structures.  \n",
        "\n",
        "Step 8: While and For Loops - Master looping to repeat tasks efficiently.  \n",
        "\n",
        "Step 9: Functions - Learn how to create reusable blocks of code with functions.\n",
        "\n",
        "# Alireza Foroughi - alirezaforoughiuk@gmail.com\n",
        "# Linkedin: https://www.linkedin.com/in/alirezaforoughi/\n",
        "# Github: https://github.com/Alireza-Foroughi-uk"
      ],
      "metadata": {
        "id": "Kgq7AYzIGlP_"
      }
    },
    {
      "cell_type": "markdown",
      "source": [
        "**Step 1: Print + Comment**"
      ],
      "metadata": {
        "id": "zAOdLD8hD1ev"
      }
    },
    {
      "cell_type": "code",
      "execution_count": null,
      "metadata": {
        "colab": {
          "base_uri": "https://localhost:8080/"
        },
        "id": "HdyhV_3m-v0c",
        "outputId": "26c9b523-6bca-44a4-daf6-64c716113ee9"
      },
      "outputs": [
        {
          "output_type": "stream",
          "name": "stdout",
          "text": [
            "Alireza\n"
          ]
        }
      ],
      "source": [
        "#This is a Comment\n",
        "print(\"Alireza\")"
      ]
    },
    {
      "cell_type": "markdown",
      "source": [
        "**Step 2: Variables**"
      ],
      "metadata": {
        "id": "zH7CzBd6ey40"
      }
    },
    {
      "cell_type": "code",
      "source": [
        "X = \"Ali\"\n",
        "Y = str(2000)\n",
        "print(X + Y)"
      ],
      "metadata": {
        "colab": {
          "base_uri": "https://localhost:8080/"
        },
        "outputId": "14dfb3c0-ed53-4f59-9e92-8c32728660ae",
        "id": "W0uvtouwe21k"
      },
      "execution_count": null,
      "outputs": [
        {
          "output_type": "stream",
          "name": "stdout",
          "text": [
            "Ali2000\n"
          ]
        }
      ]
    },
    {
      "cell_type": "markdown",
      "source": [
        "**Step 3: if - elif - else**"
      ],
      "metadata": {
        "id": "uSyZ2eaDDZ_2"
      }
    },
    {
      "cell_type": "code",
      "source": [
        "temperature = 12\n",
        "if temperature > 30:\n",
        "  print(\"hot day\")\n",
        "elif temperature < 20:\n",
        "  print(\"cold day\")\n",
        "else:\n",
        "  print(\"Nice day\")"
      ],
      "metadata": {
        "colab": {
          "base_uri": "https://localhost:8080/"
        },
        "id": "KU0JLy2VCrTe",
        "outputId": "40baa35e-e505-44b6-a50f-8dae91c8417f"
      },
      "execution_count": null,
      "outputs": [
        {
          "output_type": "stream",
          "name": "stdout",
          "text": [
            "cold day\n"
          ]
        }
      ]
    },
    {
      "cell_type": "markdown",
      "source": [
        "**Step 4: Reciving Values**"
      ],
      "metadata": {
        "id": "a2qi3jR7J0at"
      }
    },
    {
      "cell_type": "code",
      "source": [
        "# input()\n",
        "Name = input(\"What is your name?\")\n",
        "print(\"Hello Dear \" + Name)"
      ],
      "metadata": {
        "id": "qVOf63tdJ61T",
        "colab": {
          "base_uri": "https://localhost:8080/"
        },
        "outputId": "5bff999c-b5fc-431b-f597-c7bff58419e6"
      },
      "execution_count": 4,
      "outputs": [
        {
          "output_type": "stream",
          "name": "stdout",
          "text": [
            "What is your name?Alireza\n",
            "Hello Dear Alireza\n"
          ]
        }
      ]
    },
    {
      "cell_type": "markdown",
      "source": [
        "**Step 5: Python Data Types**"
      ],
      "metadata": {
        "id": "3RYqqtotLoQd"
      }
    },
    {
      "cell_type": "code",
      "source": [
        "#int()\n",
        "#float()\n",
        "#bool()\n",
        "#str()\n",
        "#complex()\n",
        "Birthday = input(\"Enter your Birth year\")\n",
        "age = 2025 - int(Birthday)\n",
        "print(\"Your age is: \" + str(age))"
      ],
      "metadata": {
        "id": "k8YcoqKQLq3P",
        "colab": {
          "base_uri": "https://localhost:8080/"
        },
        "outputId": "c04f027d-8efb-4177-c260-7f7ef4726440"
      },
      "execution_count": 5,
      "outputs": [
        {
          "output_type": "stream",
          "name": "stdout",
          "text": [
            "Enter your Birth year2000\n",
            "Your age is: 25\n"
          ]
        }
      ]
    },
    {
      "cell_type": "markdown",
      "source": [
        "**Step 6: Strings**"
      ],
      "metadata": {
        "id": "KYiV4EonPDos"
      }
    },
    {
      "cell_type": "code",
      "source": [
        "#find() --- #replace() --- #upper() --- #lower() --- #count()\n",
        "Name = \"Python Learning\"\n",
        "print(Name.find('L'))"
      ],
      "metadata": {
        "id": "ZNaao0dIPIDx",
        "colab": {
          "base_uri": "https://localhost:8080/"
        },
        "outputId": "6efc4ae2-a035-4753-b1a8-b177f6fec43a"
      },
      "execution_count": 6,
      "outputs": [
        {
          "output_type": "stream",
          "name": "stdout",
          "text": [
            "7\n"
          ]
        }
      ]
    },
    {
      "cell_type": "markdown",
      "source": [
        "**Step 7: List - Tuple - Set - Dictionary**"
      ],
      "metadata": {
        "id": "AigutVQEeKcE"
      }
    },
    {
      "cell_type": "code",
      "source": [
        "#List is a collection which is ordered - using brackets [] - changeable - Allows duplicate members\n",
        "#insert() --- #remove() --- #clear() --- #sort() : Sort List Alphanumerically  --- #extend() : To append elements from another list to the current list\n",
        "mylist = [\"ali\",\"reza\",\"foroughi\"]\n",
        "print(mylist)\n",
        "\n",
        "#Tuple is a collection which is ordered - using round brackets () -  unchangeable - Allows duplicate members\n",
        "#Join Two Tuples = tuple3 = tuple1 + tuple2 #count()\n",
        "mytuple = (\"ali\",\"reza\",\"foroughi\")\n",
        "print(mytuple)\n",
        "\n",
        "# Set is a collection which is unordered - using round brackets {} - unchangeable - unindexed - No duplicate members\n",
        "#add() --- #update() : add items from another set into the current set --- clear() ---\n",
        "#remove()\n",
        "myset = {\"ali\",\"reza\",\"foroughi\"}\n",
        "print(myset)\n",
        "\n",
        "#Dictionaries are used to store data values in key:value -using curly brackets {} - ordered - changeable - No duplicate members\n",
        "#pop() : removes the item --- clear()\n",
        "mydict = {\n",
        "  \"A\": \"alireza\",\n",
        "  \"B\": \"foroughi\",\n",
        "  \"C\": \"Student\"\n",
        "}\n",
        "print(mydict)\n",
        "\n",
        "#Change Values: You can change the value of a specific item by referring to its key name\n",
        "thisdict =\t{\n",
        "  \"brand\": \"Toyota\",\n",
        "  \"model\": \"CHR\",\n",
        "  \"year\": 2018\n",
        "}\n",
        "thisdict[\"year\"] = 2021\n",
        "print(thisdict)"
      ],
      "metadata": {
        "id": "E-qKJHYec7BN",
        "colab": {
          "base_uri": "https://localhost:8080/"
        },
        "outputId": "7207d770-4af3-4020-e343-52718b7474ce"
      },
      "execution_count": 7,
      "outputs": [
        {
          "output_type": "stream",
          "name": "stdout",
          "text": [
            "['ali', 'reza', 'foroughi']\n",
            "('ali', 'reza', 'foroughi')\n",
            "{'foroughi', 'ali', 'reza'}\n",
            "{'A': 'alireza', 'B': 'foroughi', 'C': 'Student'}\n",
            "{'brand': 'Toyota', 'model': 'CHR', 'year': 2021}\n"
          ]
        }
      ]
    },
    {
      "cell_type": "markdown",
      "source": [
        "**Step 8: While and For Loops**"
      ],
      "metadata": {
        "id": "BWCCNWwY9Na_"
      }
    },
    {
      "cell_type": "code",
      "source": [
        "# while loop we can execute a set of statements as long as a condition is True\n",
        "\n",
        "i = 1\n",
        "while i < 10:\n",
        "  print(i)\n",
        "  i = i + 1\n",
        "\n",
        "# A for loop is used for iterating over a sequence (a list, a tuple, a dictionary, a set, or a string)\n",
        "\n",
        "fruits = [\"apple\", \"banana\", \"cherry\"]\n",
        "for x in fruits:\n",
        "  print(x)"
      ],
      "metadata": {
        "colab": {
          "base_uri": "https://localhost:8080/"
        },
        "id": "vfvdet7j9WXT",
        "outputId": "4a78f914-dd0e-4c9b-c29b-63c2914a34c8"
      },
      "execution_count": 13,
      "outputs": [
        {
          "output_type": "stream",
          "name": "stdout",
          "text": [
            "1\n",
            "2\n",
            "3\n",
            "4\n",
            "5\n",
            "6\n",
            "7\n",
            "8\n",
            "9\n",
            "apple\n",
            "banana\n",
            "cherry\n"
          ]
        }
      ]
    },
    {
      "cell_type": "markdown",
      "source": [
        "**Step 9: Functions**"
      ],
      "metadata": {
        "id": "COMzlsJg_zmb"
      }
    },
    {
      "cell_type": "code",
      "source": [
        "# A function is a block of code which only runs when it is called\n",
        "\n",
        "def alireza_function():\n",
        "  print(\"Hello I'm Alireza , nice to meet you\")\n",
        "  print(\"I'm 25 years old\")\n",
        "  print(\"I'm a student\")\n",
        "  print(\"I'm from Iran\")\n",
        "alireza_function()"
      ],
      "metadata": {
        "colab": {
          "base_uri": "https://localhost:8080/"
        },
        "id": "_SKb-Z7V_8uF",
        "outputId": "f1ce0422-d106-4ef9-cc13-4ff307236190"
      },
      "execution_count": 17,
      "outputs": [
        {
          "output_type": "stream",
          "name": "stdout",
          "text": [
            "Hello I'm Alireza , nice to meet you\n",
            "I'm 25 years old\n",
            "I'm a student\n",
            "I'm from Iran\n"
          ]
        }
      ]
    }
  ]
}